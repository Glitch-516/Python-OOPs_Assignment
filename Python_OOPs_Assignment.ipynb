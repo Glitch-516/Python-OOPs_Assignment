{
  "nbformat": 4,
  "nbformat_minor": 0,
  "metadata": {
    "colab": {
      "provenance": []
    },
    "kernelspec": {
      "name": "python3",
      "display_name": "Python 3"
    },
    "language_info": {
      "name": "python"
    }
  },
  "cells": [
    {
      "cell_type": "markdown",
      "source": [
        "#  Python OOPs_Assignment"
      ],
      "metadata": {
        "id": "acI3Cjk4Wic-"
      }
    },
    {
      "cell_type": "markdown",
      "source": [
        "# Questions"
      ],
      "metadata": {
        "id": "RgbrunuxMjGw"
      }
    },
    {
      "cell_type": "markdown",
      "source": [
        "# 1. What is Object-Oriented Programming (OOP)\n",
        "\n",
        "  - OOP is a programming paradigm based on the concept of \"objects\", which can contain data (attributes) and code (methods). It allows for structuring programs so that properties and behaviors are bundled into individual objects.\n",
        "\n",
        "# 2. What is a class in OOP\n",
        "\n",
        " - A class is a blueprint for creating objects. It defines a set of attributes and methods that the created objects (instances) will have.\n",
        "\n",
        "# 3. What is an object in OOP\n",
        "\n",
        " - An object is an instance of a class. It contains real data and functionalities defined by the class.\n",
        "\n",
        "# 4. What is the difference between abstraction and encapsulation\n",
        "\n",
        "- Abstraction hides complex implementation details and shows only the necessary features of an object.\n",
        "\n",
        "- Encapsulation restricts direct access to some components and bundles data with the methods that operate on that data.\n",
        "\n",
        "# 5. What are dunder methods in Python\n",
        "\n",
        "- Dunder methods (double underscore methods), like __init__, __str__, and __len__, are special methods in Python that allow you to define how objects behave with built-in functions and operators.\n",
        "\n",
        "# 6. Explain the concept of inheritance in OOP\n",
        "\n",
        "- Inheritance allows a class (child) to acquire the properties and methods of another class (parent). It promotes code reuse and logical hierarchy.\n",
        "\n",
        "# 7. What is polymorphism in OOP\n",
        "- Polymorphism allows objects of different classes to be treated as objects of a common superclass. It lets the same method name behave differently based on the object calling it.\n",
        "\n",
        "# 8. How is encapsulation achieved in Python\n",
        "\n",
        "- Encapsulation in Python is done by:\n",
        "\n",
        "- Defining private attributes using a single (_) or double underscore (__).\n",
        "\n",
        "- Using getters and setters (or @property decorators) to control access.\n",
        "\n",
        "# 9. What is a constructor in Python\n",
        "\n",
        "- A constructor is a special method (__init__) that is automatically called when an object is instantiated. It initializes the object’s attributes.\n",
        "\n",
        "# 10. What are class and static methods in Python\n",
        "\n",
        "- Class methods (@classmethod) take cls as the first argument and can modify class state.\n",
        "\n",
        "- Static methods (@staticmethod) don’t take self or cls and are used for utility functions.\n",
        "\n",
        "# 11. What is method overloading in Python\n",
        "\n",
        "- Python does not support traditional method overloading (multiple methods with the same name but different parameters). Instead, you can use default or variable-length arguments.\n",
        "\n",
        "# 12. What is method overriding in OOP\n",
        "\n",
        "- Method overriding occurs when a subclass provides a specific implementation of a method already defined in its superclass.\n",
        "\n",
        "# 13. What is a property decorator in Python\n",
        "\n",
        "- The @property decorator is used to define a method that acts like an attribute. It's typically used for getter methods to access private attributes cleanly.\n",
        "\n",
        "# 14. Why is polymorphism important in OOP\n",
        "\n",
        "- Polymorphism allows for writing more flexible and extensible code. It lets objects be interchangeable, making code easier to maintain and scale.\n",
        "\n",
        "# 15. What is an abstract class in Python\n",
        "\n",
        "- An abstract class is a class that cannot be instantiated and often includes one or more abstract methods (declared using the @abstractmethod decorator from the abc module) that must be implemented in subclasses.\n",
        "\n",
        "# 16. What are the advantages of OOP\n",
        "\n",
        "- Code reuse via inheritance\n",
        "\n",
        "- Data hiding via encapsulation\n",
        "\n",
        "- Polymorphism for flexibility\n",
        "\n",
        "- Better organization and modularity\n",
        "\n",
        "# 17. What is the difference between a class variable and an instance variable\n",
        "\n",
        "- Class variables are shared across all instances of a class.\n",
        "\n",
        "- Instance variables are unique to each object\n",
        "\n",
        "# 18. What is multiple inheritance in Python\n",
        "\n",
        "- Multiple inheritance means a class can inherit from more than one parent class. Python supports this, but it can lead to ambiguity, which is resolved using the Method Resolution Order (MRO).\n",
        "\n",
        "# 19. Explain the purpose of ‘’__str__’ and ‘__repr__’ ‘ methods in Python\n",
        "\n",
        "- __str__ returns a readable string representation of an object (used by print()).\n",
        "\n",
        "- __repr__ returns an unambiguous string (used in debugging and by the interpreter).\n",
        "\n",
        "# 20. What is the significance of the ‘super()’ function in Python\n",
        "\n",
        "- super() allows access to methods of the parent class, often used in inheritance to call the parent class constructor or method.\n",
        "\n",
        "# 21. What is the significance of the __del__ method in Python\n",
        "\n",
        "- __del__ is the destructor method called when an object is about to be destroyed (not commonly used due to garbage collection).\n",
        "\n",
        "# 22. What is the difference between @staticmethod and @classmethod in Python\n",
        "\n",
        "- @staticmethod\n",
        "- Does NOT take any special first argument (no self or cls).\n",
        "\n",
        "- Acts like a regular function inside a class.\n",
        "\n",
        "- Cannot access or modify class or instance attributes.\n",
        "\n",
        "- Used for utility functions that logically belong to the class but don’t need to access its data.\n",
        "\n",
        "- @classmethod\n",
        "- Takes cls as the first argument, which refers to the class itself.\n",
        "\n",
        "- Can access or modify class variables.\n",
        "\n",
        "- Often used for factory methods — methods that return instances of the class using alternative constructors.\n",
        "\n",
        "\n",
        "# 23. How does polymorphism work in Python with inheritance\n",
        "\n",
        "- Through method overriding: different subclasses implement the same method differently, and the correct version is called based on the object type.\n",
        "\n",
        "# 24. What is method chaining in Python OOP\n",
        "\n",
        "- Returning self from methods allows chaining multiple method calls in a single line.\n",
        "- obj.set_name(\"John\").set_age(30).save()\n",
        "\n",
        "# 25. What is the purpose of the __call__ method in Python\n",
        "\n",
        "- __call__ makes an object callable like a function. Useful in decorators, factories, and functional patterns.\n",
        "\n",
        "- class Greeter:\n",
        "   - def __call__(self, name):\n",
        "    -   return f\"Hello, {name}\"\n",
        "\n",
        "- greet = Greeter()\n",
        "- print(greet(\"Alice\"))  # behaves like a function\n"
      ],
      "metadata": {
        "id": "DjHpb7uV9K0G"
      }
    },
    {
      "cell_type": "markdown",
      "source": [
        "# Practical Questions"
      ],
      "metadata": {
        "id": "9bvPxJJeM4AD"
      }
    },
    {
      "cell_type": "code",
      "source": [
        "# 1. Create a parent class Animal with a method speak() that prints a generic message. Create a child class Dog that overrides the speak() method to print \"Bark!\".\n",
        "\n",
        "class Animal:\n",
        "    def speak(self):\n",
        "        print(\"Generic animal sound\")\n",
        "\n",
        "class Dog(Animal):\n",
        "    def speak(self):\n",
        "        print(\"Bark!\")\n",
        "\n",
        "# Create an instance of Dog and call the speak() method\n",
        "dog = Dog()\n",
        "dog.speak()\n",
        "\n",
        "\n",
        "\n"
      ],
      "metadata": {
        "colab": {
          "base_uri": "https://localhost:8080/"
        },
        "id": "n6l7qDUpM8S0",
        "outputId": "fefb9346-2941-4a69-c9e7-2338224ed114"
      },
      "execution_count": null,
      "outputs": [
        {
          "output_type": "stream",
          "name": "stdout",
          "text": [
            "Bark!\n"
          ]
        }
      ]
    },
    {
      "cell_type": "code",
      "source": [
        "# 2. Write a program to create an abstract class Shape with a method area(). Derive classes Circle and Rectangle from it and implement the area() method in both.\n",
        "\n",
        "from abc import ABC, abstractmethod\n",
        "\n",
        "class Shape(ABC):\n",
        "    @abstractmethod\n",
        "    def area(self):\n",
        "        pass\n",
        "\n",
        "class Circle(Shape):\n",
        "    def __init__(self, radius):\n",
        "        self.radius = radius\n",
        "\n",
        "    def area(self):\n",
        "        return 3.14 * self.radius ** 2\n",
        "\n",
        "class Rectangle(Shape):\n",
        "    def __init__(self, width, height):\n",
        "        self.width = width\n",
        "        self.height = height\n",
        "\n",
        "    def area(self):\n",
        "        return self.width * self.height\n",
        "\n",
        "c = Circle(5)\n",
        "r = Rectangle(4, 6)\n",
        "print(c.area())\n",
        "print(r.area())\n"
      ],
      "metadata": {
        "colab": {
          "base_uri": "https://localhost:8080/"
        },
        "id": "zD84i6soOP_C",
        "outputId": "ff491055-8b2f-4caa-b997-239519603901"
      },
      "execution_count": null,
      "outputs": [
        {
          "output_type": "stream",
          "name": "stdout",
          "text": [
            "78.5\n",
            "24\n"
          ]
        }
      ]
    },
    {
      "cell_type": "code",
      "source": [
        "# 3. Implement a multi-level inheritance scenario where a class Vehicle has an attribute type. Derive a class Car and further derive a class ElectricCar that adds a battery attribute.\n",
        "\n",
        "class Vehicle:\n",
        "    def __init__(self, type):\n",
        "        self.type = type\n",
        "\n",
        "class Car(Vehicle):\n",
        "    def __init__(self, type, brand):\n",
        "        super().__init__(type)\n",
        "        self.brand = brand\n",
        "\n",
        "class ElectricCar(Car):\n",
        "    def __init__(self, type, brand, battery):\n",
        "        super().__init__(type, brand)\n",
        "        self.battery = battery\n",
        "\n",
        "ec = ElectricCar(\"Electric\", \"Tesla\", \"100 kWh\")\n",
        "print(ec.type, ec.brand, ec.battery)\n",
        "\n",
        "\n",
        "\n",
        "\n",
        "\n",
        "\n",
        "\n"
      ],
      "metadata": {
        "colab": {
          "base_uri": "https://localhost:8080/"
        },
        "id": "Ybnn9jCOOXSb",
        "outputId": "65a55504-c0b0-4f4a-8a43-a48040fcb70f"
      },
      "execution_count": null,
      "outputs": [
        {
          "output_type": "stream",
          "name": "stdout",
          "text": [
            "Electric Tesla 100 kWh\n"
          ]
        }
      ]
    },
    {
      "cell_type": "code",
      "source": [
        "# 4. Demonstrate polymorphism by creating a base class Bird with a method fly(). Create two derived classes Sparrow and Penguin that override the fly() method.\n",
        "\n",
        "class Bird:\n",
        "    def fly(self):\n",
        "        print(\"Some birds can fly\")\n",
        "\n",
        "class Sparrow(Bird):\n",
        "    def fly(self):\n",
        "        print(\"Sparrow flies high\")\n",
        "\n",
        "class Penguin(Bird):\n",
        "    def fly(self):\n",
        "        print(\"Penguins cannot fly\")\n",
        "\n",
        "for bird in [Sparrow(), Penguin()]:\n",
        "    bird.fly()\n"
      ],
      "metadata": {
        "colab": {
          "base_uri": "https://localhost:8080/"
        },
        "id": "N1J1VggMOqQu",
        "outputId": "2c965874-7d34-4921-9a39-0eb352ff2942"
      },
      "execution_count": null,
      "outputs": [
        {
          "output_type": "stream",
          "name": "stdout",
          "text": [
            "Sparrow flies high\n",
            "Penguins cannot fly\n"
          ]
        }
      ]
    },
    {
      "cell_type": "code",
      "source": [
        "# 5. Write a program to demonstrate encapsulation by creating a class BankAccount with private attributes balance and methods to deposit, withdraw, and check balance\n",
        "\n",
        "class BankAccount:\n",
        "    def __init__(self):\n",
        "        self.__balance = 0\n",
        "\n",
        "    def deposit(self, amount):\n",
        "        self.__balance += amount\n",
        "\n",
        "    def withdraw(self, amount):\n",
        "        if amount <= self.__balance:\n",
        "            self.__balance -= amount\n",
        "        else:\n",
        "            print(\"Insufficient funds\")\n",
        "\n",
        "    def check_balance(self):\n",
        "        return self.__balance\n",
        "\n",
        "acc = BankAccount()\n",
        "acc.deposit(500)\n",
        "acc.withdraw(200)\n",
        "print(acc.check_balance())\n"
      ],
      "metadata": {
        "colab": {
          "base_uri": "https://localhost:8080/"
        },
        "id": "fC6C99ntOz6d",
        "outputId": "acd20c48-073f-4c92-8796-c19d34a65bd3"
      },
      "execution_count": null,
      "outputs": [
        {
          "output_type": "stream",
          "name": "stdout",
          "text": [
            "300\n"
          ]
        }
      ]
    },
    {
      "cell_type": "code",
      "source": [
        "# 6. Demonstrate runtime polymorphism using a method play() in a base class Instrument. Derive classes Guitar and Piano that implement their own version of play().\n",
        "\n",
        "class Instrument:\n",
        "    def play(self):\n",
        "        print(\"Playing an instrument\")\n",
        "\n",
        "class Guitar(Instrument):\n",
        "    def play(self):\n",
        "        print(\"Strumming the guitar\")\n",
        "\n",
        "class Piano(Instrument):\n",
        "    def play(self):\n",
        "        print(\"Playing the piano\")\n",
        "\n",
        "for inst in [Guitar(), Piano()]:\n",
        "    inst.play()\n"
      ],
      "metadata": {
        "id": "Lkz9YSFjPOFI",
        "colab": {
          "base_uri": "https://localhost:8080/"
        },
        "outputId": "d10bdb13-35ce-450f-f8bf-89bb5da8d49d"
      },
      "execution_count": 12,
      "outputs": [
        {
          "output_type": "stream",
          "name": "stdout",
          "text": [
            "Strumming the guitar\n",
            "Playing the piano\n"
          ]
        }
      ]
    },
    {
      "cell_type": "code",
      "source": [
        "# 7. Create a class MathOperations with a class method add_numbers() to add two numbers and a static method subtract_numbers() to subtract two numbers.\n",
        "\n",
        "class MathOperations:\n",
        "    @classmethod\n",
        "    def add_numbers(cls, a, b):\n",
        "        return a + b\n",
        "\n",
        "    @staticmethod\n",
        "    def subtract_numbers(a, b):\n",
        "        return a - b\n",
        "\n",
        "print(MathOperations.add_numbers(5, 3))\n",
        "print(MathOperations.subtract_numbers(10, 4))\n"
      ],
      "metadata": {
        "id": "H22lf2eaPX0b",
        "colab": {
          "base_uri": "https://localhost:8080/"
        },
        "outputId": "a0237638-e194-4364-ec4b-c771e5ea22ad"
      },
      "execution_count": 13,
      "outputs": [
        {
          "output_type": "stream",
          "name": "stdout",
          "text": [
            "8\n",
            "6\n"
          ]
        }
      ]
    },
    {
      "cell_type": "code",
      "source": [
        "# 8. Implement a class Person with a class method to count the total number of persons created.\n",
        "\n",
        "class Person:\n",
        "    count = 0\n",
        "\n",
        "    def __init__(self, name):\n",
        "        self.name = name\n",
        "        Person.count += 1\n",
        "\n",
        "    @classmethod\n",
        "    def total_persons(cls):\n",
        "        return cls.count\n",
        "\n",
        "p1 = Person(\"Alice\")\n",
        "p2 = Person(\"Bob\")\n",
        "print(Person.total_persons())\n"
      ],
      "metadata": {
        "colab": {
          "base_uri": "https://localhost:8080/"
        },
        "id": "SZVzvn-_QcZj",
        "outputId": "d1a1cf6d-b634-4fce-a5f5-f915d328f3b7"
      },
      "execution_count": 14,
      "outputs": [
        {
          "output_type": "stream",
          "name": "stdout",
          "text": [
            "2\n"
          ]
        }
      ]
    },
    {
      "cell_type": "code",
      "source": [
        "# 9. Write a class Fraction with attributes numerator and denominator. Override the str method to display the fraction as \"numerator/denominator\".\n",
        "\n",
        "class Fraction:\n",
        "    def __init__(self, numerator, denominator):\n",
        "        self.numerator = numerator\n",
        "        self.denominator = denominator\n",
        "\n",
        "    def __str__(self):\n",
        "        return f\"{self.numerator}/{self.denominator}\"\n",
        "\n",
        "f = Fraction(3, 4)\n",
        "print(f)\n"
      ],
      "metadata": {
        "colab": {
          "base_uri": "https://localhost:8080/"
        },
        "id": "yAxdwvgzQja5",
        "outputId": "6a304cd8-bcf7-4505-d592-0942caf0c7b4"
      },
      "execution_count": 15,
      "outputs": [
        {
          "output_type": "stream",
          "name": "stdout",
          "text": [
            "3/4\n"
          ]
        }
      ]
    },
    {
      "cell_type": "code",
      "source": [
        "# 10. Demonstrate operator overloading by creating a class Vector and overriding the add method to add two vectors.\n",
        "\n",
        "class Vector:\n",
        "    def __init__(self, x, y):\n",
        "        self.x = x\n",
        "        self.y = y\n",
        "\n",
        "    def __add__(self, other):\n",
        "        return Vector(self.x + other.x, self.y + other.y)\n",
        "\n",
        "    def __str__(self):\n",
        "        return f\"({self.x}, {self.y})\"\n",
        "\n",
        "v1 = Vector(1, 2)\n",
        "v2 = Vector(3, 4)\n",
        "print(v1 + v2)\n"
      ],
      "metadata": {
        "colab": {
          "base_uri": "https://localhost:8080/"
        },
        "id": "emR18nxmQ4Hi",
        "outputId": "db7bdb60-cdd8-4b3c-fc7d-4642d06c7727"
      },
      "execution_count": 16,
      "outputs": [
        {
          "output_type": "stream",
          "name": "stdout",
          "text": [
            "(4, 6)\n"
          ]
        }
      ]
    },
    {
      "cell_type": "code",
      "source": [
        "# 11. Create a class Person with attributes name and age. Add a method greet() that prints \"Hello, my name is {name} and I am {age} years old.\"\n",
        "\n",
        "class Person:\n",
        "    def __init__(self, name, age):\n",
        "        self.name = name\n",
        "        self.age = age\n",
        "\n",
        "    def greet(self):\n",
        "        print(f\"Hello, my name is {self.name} and I am {self.age} years old.\")\n",
        "\n",
        "p = Person(\"Talib\", 26)\n",
        "p.greet()\n"
      ],
      "metadata": {
        "colab": {
          "base_uri": "https://localhost:8080/"
        },
        "id": "VoLk63cARClw",
        "outputId": "e3accedc-519a-440c-b938-77c4725f9489"
      },
      "execution_count": 22,
      "outputs": [
        {
          "output_type": "stream",
          "name": "stdout",
          "text": [
            "Hello, my name is Talib and I am 26 years old.\n"
          ]
        }
      ]
    },
    {
      "cell_type": "code",
      "source": [
        "# 12. Implement a class Student with attributes name and grades. Create a method average_grade() to compute the average of the grades.\n",
        "\n",
        "class Student:\n",
        "    def __init__(self, name, grades):\n",
        "        self.name = name\n",
        "        self.grades = grades\n",
        "\n",
        "    def average_grade(self):\n",
        "        return sum(self.grades) / len(self.grades)\n",
        "\n",
        "s = Student(\"talib\", [85, 90, 78])\n",
        "print(s.average_grade())\n"
      ],
      "metadata": {
        "colab": {
          "base_uri": "https://localhost:8080/"
        },
        "id": "rYpGrhi3RO-G",
        "outputId": "e2f88b99-f585-4db3-ef03-2cc389511c2d"
      },
      "execution_count": 20,
      "outputs": [
        {
          "output_type": "stream",
          "name": "stdout",
          "text": [
            "84.33333333333333\n"
          ]
        }
      ]
    },
    {
      "cell_type": "code",
      "source": [
        "# 13. Create a class Rectangle with methods set_dimensions() to set the dimensions and area() to calculate the area.\n",
        "\n",
        "class Rectangle:\n",
        "    def set_dimensions(self, width, height):\n",
        "        self.width = width\n",
        "        self.height = height\n",
        "\n",
        "    def area(self):\n",
        "        return self.width * self.height\n",
        "\n",
        "r = Rectangle()\n",
        "r.set_dimensions(4, 5)\n",
        "print(r.area())\n"
      ],
      "metadata": {
        "colab": {
          "base_uri": "https://localhost:8080/"
        },
        "id": "IB03A104Reop",
        "outputId": "3555a597-4a1f-45c9-8052-73448de6b7c4"
      },
      "execution_count": 19,
      "outputs": [
        {
          "output_type": "stream",
          "name": "stdout",
          "text": [
            "20\n"
          ]
        }
      ]
    },
    {
      "cell_type": "code",
      "source": [
        "# 14. Create a class Employee with a method calculate_salary() that computes the salary based on hours worked and hourly rate. Create a derived class Manager that adds a bonus to the salary.\n",
        "\n",
        "\n",
        "class Employee:\n",
        "    def calculate_salary(self, hours, rate):\n",
        "        return hours * rate\n",
        "\n",
        "class Manager(Employee):\n",
        "    def calculate_salary(self, hours, rate, bonus):\n",
        "        base = super().calculate_salary(hours, rate)\n",
        "        return base + bonus\n",
        "\n",
        "m = Manager()\n",
        "print(m.calculate_salary(40, 50, 500))\n"
      ],
      "metadata": {
        "colab": {
          "base_uri": "https://localhost:8080/"
        },
        "id": "GZERPETfRu_f",
        "outputId": "29506266-7164-4289-fb9b-433c205a7217"
      },
      "execution_count": 23,
      "outputs": [
        {
          "output_type": "stream",
          "name": "stdout",
          "text": [
            "2500\n"
          ]
        }
      ]
    },
    {
      "cell_type": "code",
      "source": [
        "# 15. Create a class Product with attributes name, price, and quantity. Implement a method total_price() that calculates the total price of the product.\n",
        "\n",
        "class Product:\n",
        "    def __init__(self, name, price, quantity):\n",
        "        self.name = name\n",
        "        self.price = price\n",
        "        self.quantity = quantity\n",
        "\n",
        "    def total_price(self):\n",
        "        return self.price * self.quantity\n",
        "\n",
        "p = Product(\"Laptop\", 1000, 2)\n",
        "print(p.total_price())\n"
      ],
      "metadata": {
        "colab": {
          "base_uri": "https://localhost:8080/"
        },
        "id": "Pbc5QY1wSENz",
        "outputId": "dcb8f7e8-e0a8-4cd4-c210-423d495b6ab8"
      },
      "execution_count": 24,
      "outputs": [
        {
          "output_type": "stream",
          "name": "stdout",
          "text": [
            "2000\n"
          ]
        }
      ]
    },
    {
      "cell_type": "code",
      "source": [
        "# 16. Create a class Animal with an abstract method sound(). Create two derived classes Cow and Sheep that implement the sound() method.\n",
        "\n",
        "\n",
        "from abc import ABC, abstractmethod\n",
        "\n",
        "class Animal(ABC):\n",
        "    @abstractmethod\n",
        "    def sound(self):\n",
        "        pass\n",
        "\n",
        "class Cow(Animal):\n",
        "    def sound(self):\n",
        "        print(\"Moo\")\n",
        "\n",
        "class Sheep(Animal):\n",
        "    def sound(self):\n",
        "        print(\"Baa\")\n",
        "\n",
        "for animal in [Cow(), Sheep()]:\n",
        "    animal.sound()\n"
      ],
      "metadata": {
        "colab": {
          "base_uri": "https://localhost:8080/"
        },
        "id": "Yr3_Z_t9SQHC",
        "outputId": "a6e283be-c762-4fee-9295-9c16ba083524"
      },
      "execution_count": 25,
      "outputs": [
        {
          "output_type": "stream",
          "name": "stdout",
          "text": [
            "Moo\n",
            "Baa\n"
          ]
        }
      ]
    },
    {
      "cell_type": "code",
      "source": [
        "# 17. Create a class Book with attributes title, author, and year_published. Add a method get_book_info() that returns a formatted string with the book's details.\n",
        "\n",
        "\n",
        "class Book:\n",
        "    def __init__(self, title, author, year_published):\n",
        "        self.title = title\n",
        "        self.author = author\n",
        "        self.year_published = year_published\n",
        "\n",
        "    def get_book_info(self):\n",
        "        return f\"'{self.title}' by {self.author} ({self.year_published})\"\n",
        "\n",
        "b = Book(\"1984\", \"George Orwell\", 1949)\n",
        "print(b.get_book_info())\n"
      ],
      "metadata": {
        "colab": {
          "base_uri": "https://localhost:8080/"
        },
        "id": "Huw1HNbiSXYS",
        "outputId": "1a12dfbb-49be-457f-b07a-ac066eda36c7"
      },
      "execution_count": 26,
      "outputs": [
        {
          "output_type": "stream",
          "name": "stdout",
          "text": [
            "'1984' by George Orwell (1949)\n"
          ]
        }
      ]
    },
    {
      "cell_type": "code",
      "source": [
        "# 18. Create a class House with attributes address and price. Create a derived class Mansion that adds an attribute number_of_rooms.\n",
        "\n",
        "class House:\n",
        "    def __init__(self, address, price):\n",
        "        self.address = address\n",
        "        self.price = price\n",
        "\n",
        "class Mansion(House):\n",
        "    def __init__(self, address, price, number_of_rooms):\n",
        "        super().__init__(address, price)\n",
        "        self.number_of_rooms = number_of_rooms\n",
        "\n",
        "m = Mansion(\"123 saket\", 1000000, 10)\n",
        "print(m.address, m.price, m.number_of_rooms)\n"
      ],
      "metadata": {
        "colab": {
          "base_uri": "https://localhost:8080/"
        },
        "id": "Q-rGzIEPShIY",
        "outputId": "bafbb244-2990-4ff5-c2ba-913eb5d5be34"
      },
      "execution_count": 28,
      "outputs": [
        {
          "output_type": "stream",
          "name": "stdout",
          "text": [
            "123 saket 1000000 10\n"
          ]
        }
      ]
    },
    {
      "cell_type": "code",
      "source": [],
      "metadata": {
        "id": "XONICCJTSrdG"
      },
      "execution_count": null,
      "outputs": []
    }
  ]
}